{
 "cells": [
  {
   "cell_type": "markdown",
   "metadata": {},
   "source": [
    "![Xilinx Logo](images/xilinx_logo.png \"Xilinx Logo\")"
   ]
  },
  {
   "cell_type": "markdown",
   "metadata": {},
   "source": [
    "# 1. Introduction\n",
    "\n",
    "This notebook demonstrates how to run the defect detection pipeline in different modes like file and live capture. Live images are captured from the MIPI device, then performs defect detection acceleration using Vitis Vision library. The defect results text will be embedded along with the accelerator output image and sends out to display.\n"
   ]
  },
  {
   "cell_type": "markdown",
   "metadata": {},
   "source": [
    "# 2. Imports and Initialization\n",
    "Import all python modules required for this notebook.\n"
   ]
  },
  {
   "cell_type": "code",
   "execution_count": 1,
   "metadata": {},
   "outputs": [],
   "source": [
    "import sys\n",
    "import glob\n",
    "import subprocess\n",
    "import re"
   ]
  },
  {
   "cell_type": "code",
   "execution_count": 2,
   "metadata": {},
   "outputs": [
    {
     "data": {
      "text/plain": [
       "[]"
      ]
     },
     "execution_count": 2,
     "metadata": {},
     "output_type": "execute_result"
    }
   ],
   "source": [
    "import gi\n",
    "gi.require_version('Gst', '1.0')\n",
    "gi.require_version(\"GstApp\", \"1.0\")\n",
    "gi.require_version('GstVideo', '1.0')\n",
    "gi.require_version('GIRepository', '2.0')\n",
    "from gi.repository import GObject, Gst, GstVideo, GLib, GIRepository\n",
    "Gst.init(None)"
   ]
  },
  {
   "cell_type": "code",
   "execution_count": 3,
   "metadata": {},
   "outputs": [],
   "source": [
    "mainloop = GLib.MainLoop()\n"
   ]
  },
  {
   "cell_type": "markdown",
   "metadata": {},
   "source": [
    "# 3. Construct the String Representation of GStreamer Pipeline\n",
    "## The get_media_by_device function returns the matching media node for a given video capture source. The following sources are supported in this notebook:\n",
    "\n",
    "* mipi : platform1 only"
   ]
  },
  {
   "cell_type": "code",
   "execution_count": 4,
   "metadata": {},
   "outputs": [],
   "source": [
    "def get_media_dev_by_name(src):\n",
    "    sources = {\n",
    "        'mipi' : 'vcap_csi',\n",
    "    }\n",
    "    devices = glob.glob('/dev/media*')\n",
    "    for dev in devices:\n",
    "        proc = subprocess.run(['media-ctl', '-d', dev, '-p'], capture_output=True, encoding='utf8')\n",
    "        for line in proc.stdout.splitlines():\n",
    "            if sources[src] in line:\n",
    "                return dev"
   ]
  },
  {
   "cell_type": "markdown",
   "metadata": {},
   "source": [
    "## Change the DEMO variable to switch between filesrc/media soruce"
   ]
  },
  {
   "cell_type": "code",
   "execution_count": 5,
   "metadata": {},
   "outputs": [],
   "source": [
    "# 0 for file input and file sinc\n",
    "# 1 for media src bin\n",
    "DEMO = 1\n",
    "filesinkpath=\"/run/media/sda1\""
   ]
  },
  {
   "cell_type": "markdown",
   "metadata": {},
   "source": [
    "## Get the source by calling get_media_dev_by_name()"
   ]
  },
  {
   "cell_type": "code",
   "execution_count": 6,
   "metadata": {},
   "outputs": [
    {
     "name": "stdout",
     "output_type": "stream",
     "text": [
      "gst-launch-1.0 mediasrcbin media-device=/dev/media0\n"
     ]
    }
   ],
   "source": [
    "source = \"mipi\" # Change source usb\n",
    "\n",
    "media_device = get_media_dev_by_name(source) \n",
    "if media_device is None:\n",
    "    raise Exception('Unable to find video source ' + source + '. Make sure the device is plugged in, powered, and the correct platform is used.')\n",
    "\n",
    "src = \"gst-launch-1.0 \"\n",
    "\n",
    "if DEMO == 1:#media src bin\n",
    "    src += \"mediasrcbin media-device=\" + media_device\n",
    "else:# file src\n",
    "    src += \"filesrc location=/run/media/sda1/input.yuv blocksize=1024000\"\n",
    "\n",
    "print(src)"
   ]
  },
  {
   "cell_type": "markdown",
   "metadata": {},
   "source": [
    "## Construct the real pipeline string."
   ]
  },
  {
   "cell_type": "markdown",
   "metadata": {},
   "source": [
    "### configuration directory for IVAS plugin"
   ]
  },
  {
   "cell_type": "code",
   "execution_count": 7,
   "metadata": {},
   "outputs": [],
   "source": [
    "confdir=\"/opt/xilinx/share/ivas/defectdetection_aa4\""
   ]
  },
  {
   "cell_type": "markdown",
   "metadata": {},
   "source": [
    "### Set the caps.\n",
    "User can change the resolution and framerate here.\n",
    "\n",
    "If videosrc cannot support format GRAY8, adjust the pipeline to fit with followning elements."
   ]
  },
  {
   "cell_type": "code",
   "execution_count": 8,
   "metadata": {},
   "outputs": [
    {
     "name": "stdout",
     "output_type": "stream",
     "text": [
      "gst-launch-1.0 mediasrcbin media-device=/dev/media0 ! video/x-raw, width=1280, height=800, format=GRAY8, framerate=60/1 \n"
     ]
    }
   ],
   "source": [
    "pip=src + ' ! video/x-raw, width=1280, height=800, format=GRAY8, framerate=60/1 '\n",
    "print(pip)"
   ]
  },
  {
   "cell_type": "markdown",
   "metadata": {},
   "source": [
    "### Run the live capture pipeline.\n",
    "ivas_xfilter kconfig=\"{confdir}/pre-process.json\" is configure the threshold & max value, kernel name, xclbin path.\n",
    "canny-accelarator.json to cinfigure min & max threshold value.\n",
    "dfeect-calculation.json is to configure threshold value to decide whether fruit is defect or not, font size, font.\n",
    "\n",
    "Detailed configuration can be found in the json file."
   ]
  },
  {
   "cell_type": "code",
   "execution_count": 9,
   "metadata": {},
   "outputs": [
    {
     "name": "stdout",
     "output_type": "stream",
     "text": [
      "gst-launch-1.0 mediasrcbin media-device=/dev/media0 ! video/x-raw, width=1280, height=800, format=GRAY8, framerate=60/1  ! tee name=t_src t_src. ! queue ! ivas_xfilter kernels-config=/run/media/sda1/json/pre-process.json ! tee name=t_pre t_pre. ! queue ! ivas_xfilter kernels-config=/run/media/sda1/json/canny-accelarator.json ! ivas_xfilter kernels-config=/run/media/sda1/json/edge-tracer.json ! ivas_xfilter kernels-config=/run/media/sda1/json/defect-calculation.json  ! videorate !  video/x-raw, framerate=4/1 !  tee ! perf ! kmssink  bus-id=B0010000.v_mix  plane-id=34 render-rectangle=\"<1280,800,1280,800>\"  t_src. !  queue ! videorate !  video/x-raw, framerate=4/1 ! perf ! kmssink bus-id=B0010000.v_mix  plane-id=35 render-rectangle=\"<0,0,1280,800>\" async=false  t_pre. ! queue ! videorate !  video/x-raw, framerate=4/1 ! perf ! kmssink bus-id=B0010000.v_mix  plane-id=36 render-rectangle=\"<2560,0,1280,800>\" async=false \n"
     ]
    }
   ],
   "source": [
    "# pip += ' ! tee name=t_src t_src. ! queue ! ivas_xfilter kernels-config={confdir}/pre-process.json ! tee name=t_pre t_pre. ! queue ! ivas_xfilter kernels-config={confdir}/canny-accelarator.json ! ivas_xfilter kernels-config={confdir}/edge-tracer.json ! ivas_xfilter kernels-config={confdir}/defect-calculation.json  ! tee ! perf ! kmssink  bus-id=B0010000.v_mix  plane-id=34 render-rectangle=\"<1280,800,1280,800>\"  t_src. !  queue ! perf ! kmssink bus-id=B0010000.v_mix  plane-id=35 render-rectangle=\"<0, 0,1280,800>\" async=false  t_pre. ! queue ! perf ! kmssink bus-id=B0010000.v_mix  plane-id=36 render-rectangle=\"<0,0,1280,800>\" async=false '.format(confdir=confdir)\n",
    "# pip += ' ! tee name=t_src t_src. ! queue ! ivas_xfilter kernels-config=pre-process.json ! tee name=t_pre t_pre. ! queue ! ivas_xfilter kernels-config=canny-accelarator.json ! ivas_xfilter kernels-config=edge-tracer.json ! ivas_xfilter kernels-config=defect-calculation.json  ! videorate !  \"video/x-raw, framerate=4/1\" !  tee ! perf ! kmssink  bus-id=B0010000.v_mix  plane-id=34 render-rectangle=\"<1280,800,1280,800>\"  t_src. !  queue ! videorate !  \"video/x-raw, framerate=4/1\" ! perf ! kmssink bus-id=B0010000.v_mix  plane-id=35 render-rectangle=\"<0,0,1280,800>\" async=false  t_pre. ! queue ! videorate !  \"video/x-raw, framerate=4/1\" ! perf ! kmssink bus-id=B0010000.v_mix  plane-id=36 render-rectangle=\"<2560,0,1280,800>\" async=false' \n",
    "#pip = 'gst-launch-1.0 mediasrcbin media-device=/dev/media0 ! video/x-raw, width=1280, height=800, format=GRAY8, framerate=60/1  ! tee name=t_src t_src. ! queue ! ivas_xfilter kernels-config={confdir}/pre-process.json ! tee name=t_pre t_pre. ! queue ! ivas_xfilter kernels-config={confdir}/canny-accelarator.json ! ivas_xfilter kernels-config={confdir}/edge-tracer.json ! ivas_xfilter kernels-config={confdir}/defect-calculation.json  ! videorate !  video/x-raw, framerate=4/1 !  tee ! perf ! kmssink  bus-id=B0010000.v_mix  plane-id=34 render-rectangle=\"<1280,800,1280,800>\"  t_src. !  queue ! videorate !  video/x-raw, framerate=4/1 ! perf ! kmssink bus-id=B0010000.v_mix  plane-id=35 render-rectangle=\"<0,0,1280,800>\" async=false  t_pre. ! queue ! videorate !  video/x-raw, framerate=4/1 ! perf ! kmssink bus-id=B0010000.v_mix  plane-id=36 render-rectangle=\"<2560,0,1280,800>\" async=false '.format(confdir=confdir)\n",
    "filesink = (DEMO == 0)\n",
    "\n",
    "pip += ' ! tee name=t_src t_src. ! queue ! ivas_xfilter kernels-config={confdir}/pre-process.json ! tee name=t_pre t_pre. ! queue ! ivas_xfilter kernels-config={confdir}/canny-accelarator.json ! ivas_xfilter kernels-config={confdir}/edge-tracer.json ! ivas_xfilter kernels-config={confdir}/defect-calculation.json  '.format(confdir=confdir)\n",
    "\n",
    "if filesink:\n",
    "    pip += \"! filesink  location={path}/final.yuv\".format(path=filesinkpath)\n",
    "else:\n",
    "    pip += '! videorate !  video/x-raw, framerate=4/1 !  tee ! perf ! kmssink  bus-id=B0010000.v_mix  plane-id=34 render-rectangle=\"<1280,800,1280,800>\"'\n",
    "\n",
    "pip += '  t_src. !  queue '\n",
    "\n",
    "if filesink:\n",
    "    pip += \"! filesink location={path}/raw_src.yuv\".format(path=filesinkpath)\n",
    "else:\n",
    "    pip += '! videorate !  video/x-raw, framerate=4/1 ! perf ! kmssink bus-id=B0010000.v_mix  plane-id=35 render-rectangle=\"<0,0,1280,800>\"'\n",
    "\n",
    "pip += ' async=false  t_pre. ! queue ! '\n",
    "\n",
    "if filesink:\n",
    "    pip += \"filesink location={path}/pre-process.yuv  async=false \".format(path=filesinkpath)\n",
    "else:\n",
    "    pip += 'videorate !  video/x-raw, framerate=4/1 ! perf ! kmssink bus-id=B0010000.v_mix  plane-id=36 render-rectangle=\"<2560,0,1280,800>\" async=false '.format(confdir=confdir)\n",
    "\n",
    "print(pip)"
   ]
  },
  {
   "cell_type": "code",
   "execution_count": null,
   "metadata": {},
   "outputs": [],
   "source": [
    "output=subprocess.check_output(pip,shell=True)\n",
    "\n",
    "print (output)"
   ]
  },
  {
   "cell_type": "markdown",
   "metadata": {},
   "source": [
    "# 5. Summary\n",
    "The Jupyter application shows how to:\n",
    "\n",
    "1. Create a GStreamer pipeline which utilize the IVAS framework to call Vitis Vision Library to do defect detection on the live mango images, and embed the defect result on the final image from accelerator.\n",
    "2. User can try to customize the source to video file or MIPI camera."
   ]
  },
  {
   "cell_type": "markdown",
   "metadata": {},
   "source": [
    "<center>Copyright© 2019 Xilinx</center>"
   ]
  }
 ],
 "metadata": {
  "kernelspec": {
   "display_name": "Python 3",
   "language": "python",
   "name": "python3"
  },
  "language_info": {
   "codemirror_mode": {
    "name": "ipython",
    "version": 3
   },
   "file_extension": ".py",
   "mimetype": "text/x-python",
   "name": "python",
   "nbconvert_exporter": "python",
   "pygments_lexer": "ipython3",
   "version": "3.7.6"
  }
 },
 "nbformat": 4,
 "nbformat_minor": 4
}
