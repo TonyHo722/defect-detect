{
 "cells": [
  {
   "cell_type": "markdown",
   "metadata": {},
   "source": [
    "![Xilinx Logo](images/xilinx_logo.png \"Xilinx Logo\")"
   ]
  },
  {
   "cell_type": "markdown",
   "metadata": {},
   "source": [
    "# 1. Introduction\n",
    "\n",
    "This notebook demonstrates how to run the defect detection pipeline in different playback modes like file and live capture. Live capture has normal mode & demo mode. Normal mode runs at full fps & demo mode is restricted to 4fps. Live images are captured from the MIPI device, then performs defect detection acceleration using Vitis Vision library. The defect results text will be embedded along with the accelerator output image and sends out to 4K display.\n",
    "\n",
    "Please refer to the tutorial of the SOM Starter Kit Defect Detection document for detailed HW/SW architecture\n"
   ]
  },
  {
   "cell_type": "markdown",
   "metadata": {},
   "source": [
    "# 2. Imports and Initialization\n",
    "Import all python modules required for this notebook.\n"
   ]
  },
  {
   "cell_type": "code",
   "execution_count": 1,
   "metadata": {},
   "outputs": [],
   "source": [
    "import sys\n",
    "import glob\n",
    "import subprocess\n",
    "import re\n",
    "import os"
   ]
  },
  {
   "cell_type": "code",
   "execution_count": 2,
   "metadata": {},
   "outputs": [
    {
     "data": {
      "text/plain": [
       "[]"
      ]
     },
     "execution_count": 2,
     "metadata": {},
     "output_type": "execute_result"
    }
   ],
   "source": [
    "import gi\n",
    "gi.require_version('Gst', '1.0')\n",
    "gi.require_version(\"GstApp\", \"1.0\")\n",
    "gi.require_version('GstVideo', '1.0')\n",
    "gi.require_version('GIRepository', '2.0')\n",
    "from gi.repository import GObject, Gst, GstVideo, GLib, GIRepository\n",
    "Gst.init(None)"
   ]
  },
  {
   "cell_type": "code",
   "execution_count": 3,
   "metadata": {},
   "outputs": [],
   "source": [
    "mainloop = GLib.MainLoop()\n"
   ]
  },
  {
   "cell_type": "markdown",
   "metadata": {},
   "source": [
    "## 3. Run the modetest command to configure the mixer IP for 4K"
   ]
  },
  {
   "cell_type": "code",
   "execution_count": 4,
   "metadata": {},
   "outputs": [
    {
     "name": "stdout",
     "output_type": "stream",
     "text": [
      "setting mode 3840x2160-30.00Hz@NV16 on connectors 52, crtc 40\n",
      "\n"
     ]
    }
   ],
   "source": [
    "fwpath=\"/dev/dri/by-path/\"\n",
    "fwfilename=\"platform-b0010000.v_mix-card\"\n",
    "if os.path.exists(fwpath) and fwfilename in os.listdir(fwpath):\n",
    "    out = subprocess.check_output('modetest -M xlnx -D B0010000.v_mix -s 52@40:3840x2160@NV16',shell=True)\n",
    "    print(out.decode('ascii'))\n",
    "else:    \n",
    "    print(\"Defect detection Firmware not loaded, Run 'xmutil loadapp kv260-defect-detect' \")  \n",
    "    exit(1)"
   ]
  },
  {
   "cell_type": "markdown",
   "metadata": {},
   "source": [
    "# 4. Construct the String Representation of GStreamer Pipeline\n",
    "## The get_media_by_device function returns the matching media node for a given video capture source. The following sources are supported in this notebook:\n",
    "\n",
    "* mipi : platform1 only"
   ]
  },
  {
   "cell_type": "code",
   "execution_count": 5,
   "metadata": {},
   "outputs": [],
   "source": [
    "def get_media_dev_by_name(src):\n",
    "    sources = {\n",
    "        'mipi' : 'vcap_csi',\n",
    "    }\n",
    "    devices = glob.glob('/dev/media*')\n",
    "    for dev in devices:\n",
    "        proc = subprocess.run(['media-ctl', '-d', dev, '-p'], capture_output=True, encoding='utf8')\n",
    "        for line in proc.stdout.splitlines():\n",
    "            if sources[src] in line:\n",
    "                return dev"
   ]
  },
  {
   "cell_type": "markdown",
   "metadata": {},
   "source": [
    "## Change the playback variable to switch between filesrc/media soruce\n",
    "## Change the filesinkpath to store the different stages output"
   ]
  },
  {
   "cell_type": "code",
   "execution_count": 6,
   "metadata": {},
   "outputs": [],
   "source": [
    "# 0 for file input and file sink\n",
    "# 1 for Live normal mode ** not supported in this release\n",
    "# 2 for Live Demo mode ** not supported in this release\n",
    "playback = 0\n",
    "filesinkpath=\"/home/petalinux\""
   ]
  },
  {
   "cell_type": "markdown",
   "metadata": {},
   "source": [
    "## Get the source by calling get_media_dev_by_name()\n",
    "## For file source copy the input video file to any rootfs path & update the location variable accordingly "
   ]
  },
  {
   "cell_type": "code",
   "execution_count": 7,
   "metadata": {},
   "outputs": [
    {
     "name": "stdout",
     "output_type": "stream",
     "text": [
      "gst-launch-1.0 filesrc location=/home/petalinux/input_video.y8 blocksize=1024000\n"
     ]
    }
   ],
   "source": [
    "source = \"mipi\" # Change source usb\n",
    "\n",
    "media_device = get_media_dev_by_name(source) \n",
    "if media_device is None:\n",
    "    raise Exception('Unable to find video source ' + source + '. Make sure the device is plugged in, powered and correct Defect detection firmware is loaded.')\n",
    "\n",
    "src = \"gst-launch-1.0 \"\n",
    "\n",
    "if playback == 1 or playback == 2:#media src bin\n",
    "    src += \"mediasrcbin media-device=\" + media_device\n",
    "else:# file src\n",
    "    src += \"filesrc location=/home/petalinux/input_video.y8 blocksize=1024000\"    \n",
    "\n",
    "print(src)"
   ]
  },
  {
   "cell_type": "markdown",
   "metadata": {},
   "source": [
    "## Construct the real pipeline string."
   ]
  },
  {
   "cell_type": "markdown",
   "metadata": {},
   "source": [
    "### configuration directory for IVAS plugin"
   ]
  },
  {
   "cell_type": "code",
   "execution_count": 8,
   "metadata": {},
   "outputs": [],
   "source": [
    "confdir=\"/opt/xilinx/share/ivas/defect-detect\""
   ]
  },
  {
   "cell_type": "markdown",
   "metadata": {},
   "source": [
    "### Set the caps.\n",
    "User can change the resolution and framerate here.\n",
    "\n",
    "If videosrc cannot support format GRAY8, adjust the pipeline to fit with followning elements."
   ]
  },
  {
   "cell_type": "code",
   "execution_count": 9,
   "metadata": {},
   "outputs": [
    {
     "name": "stdout",
     "output_type": "stream",
     "text": [
      "gst-launch-1.0 filesrc location=/home/petalinux/input_video.y8 blocksize=1024000 ! video/x-raw, width=1280, height=800, format=GRAY8, framerate=60/1 \n"
     ]
    }
   ],
   "source": [
    "if playback == 0 or playback == 1:\n",
    "    pip=src + ' ! video/x-raw, width=1280, height=800, format=GRAY8, framerate=60/1 '\n",
    "elif playback == 2:\n",
    "    pip=src + ' ! video/x-raw, width=1280, height=800, format=GRAY8, framerate=4/1 '\n",
    "print(pip)"
   ]
  },
  {
   "cell_type": "markdown",
   "metadata": {},
   "source": [
    "### Run the live capture pipeline.\n",
    "ivas_xfilter kconfig=\"{confdir}/pre-process.json\" is configure the threshold & max value, kernel name, xclbin path.\n",
    "canny-accelarator.json to cinfigure min & max threshold value.\n",
    "dfeect-calculation.json is to configure threshold value to decide whether fruit is defect or not, font size, font.\n",
    "\n",
    "Detailed configuration can be found in the json file."
   ]
  },
  {
   "cell_type": "code",
   "execution_count": 10,
   "metadata": {},
   "outputs": [
    {
     "name": "stdout",
     "output_type": "stream",
     "text": [
      "gst-launch-1.0 filesrc location=/home/petalinux/input_video.y8 blocksize=1024000 ! video/x-raw, width=1280, height=800, format=GRAY8, framerate=60/1  ! tee name=t_src t_src. ! queue ! ivas_xfilter kernels-config=/opt/xilinx/share/ivas/defect-detect/pre-process.json ! tee name=t_pre t_pre. ! queue ! ivas_xfilter kernels-config=/opt/xilinx/share/ivas/defect-detect/canny-accelarator.json ! ivas_xfilter kernels-config=/opt/xilinx/share/ivas/defect-detect/edge-tracer.json ! ivas_xfilter kernels-config=/opt/xilinx/share/ivas/defect-detect/defect-calculation.json  ! filesink  location=/home/petalinux/final.y8  t_src. !  queue ! filesink location=/home/petalinux/raw_src.y8 async=false  t_pre. ! queue ! filesink location=/home/petalinux/pre-process.y8  async=false \n"
     ]
    }
   ],
   "source": [
    "# pip += ' ! tee name=t_src t_src. ! queue ! ivas_xfilter kernels-config={confdir}/pre-process.json ! tee name=t_pre t_pre. ! queue ! ivas_xfilter kernels-config={confdir}/canny-accelarator.json ! ivas_xfilter kernels-config={confdir}/edge-tracer.json ! ivas_xfilter kernels-config={confdir}/defect-calculation.json  ! perf ! kmssink  bus-id=B0010000.v_mix  plane-id=34 render-rectangle=\"<2560,680,1280,800>\"  t_src. !  queue ! perf ! kmssink bus-id=B0010000.v_mix  plane-id=35 render-rectangle=\"<0, 680,1280,800>\" async=false  t_pre. ! queue ! perf ! kmssink bus-id=B0010000.v_mix  plane-id=36 render-rectangle=\"<1280,680,1280,800>\" async=false '.format(confdir=confdir)\n",
    "# pip += ' ! tee name=t_src t_src. ! queue ! ivas_xfilter kernels-config=pre-process.json ! tee name=t_pre t_pre. ! queue ! ivas_xfilter kernels-config=canny-accelarator.json ! ivas_xfilter kernels-config=edge-tracer.json ! ivas_xfilter kernels-config=defect-calculation.json  ! videorate !  \"video/x-raw, framerate=4/1\" !  perf ! kmssink  bus-id=B0010000.v_mix  plane-id=34 render-rectangle=\"<2560,680,1280,800>\"  t_src. !  queue ! videorate !  \"video/x-raw, framerate=4/1\" ! perf ! kmssink bus-id=B0010000.v_mix  plane-id=35 render-rectangle=\"<0,680,1280,800>\" async=false  t_pre. ! queue ! videorate !  \"video/x-raw, framerate=4/1\" ! perf ! kmssink bus-id=B0010000.v_mix  plane-id=36 render-rectangle=\"<1280,680,1280,800>\" async=false' \n",
    "#pip = 'gst-launch-1.0 mediasrcbin media-device=/dev/media0 ! video/x-raw, width=1280, height=800, format=GRAY8, framerate=60/1  ! tee name=t_src t_src. ! queue ! ivas_xfilter kernels-config={confdir}/pre-process.json ! tee name=t_pre t_pre. ! queue ! ivas_xfilter kernels-config={confdir}/canny-accelarator.json ! ivas_xfilter kernels-config={confdir}/edge-tracer.json ! ivas_xfilter kernels-config={confdir}/defect-calculation.json  ! videorate !  video/x-raw, framerate=4/1 !  perf ! kmssink  bus-id=B0010000.v_mix  plane-id=34 render-rectangle=\"<2560,680,1280,800>\"  t_src. !  queue ! videorate !  video/x-raw, framerate=4/1 ! perf ! kmssink bus-id=B0010000.v_mix  plane-id=35 render-rectangle=\"<0,680,1280,800>\" async=false  t_pre. ! queue ! videorate !  video/x-raw, framerate=4/1 ! perf ! kmssink bus-id=B0010000.v_mix  plane-id=36 render-rectangle=\"<1280,680,1280,800>\" async=false '.format(confdir=confdir)\n",
    "pip += ' ! tee name=t_src t_src. ! queue ! ivas_xfilter kernels-config={confdir}/pre-process.json ! tee name=t_pre t_pre. ! queue ! ivas_xfilter kernels-config={confdir}/canny-accelarator.json ! ivas_xfilter kernels-config={confdir}/edge-tracer.json ! ivas_xfilter kernels-config={confdir}/defect-calculation.json  '.format(confdir=confdir)\n",
    "\n",
    "if playback == 0:\n",
    "    pip += \"! filesink  location={path}/final.y8\".format(path=filesinkpath)\n",
    "elif playback == 1:\n",
    "    pip += '! videorate !  video/x-raw, framerate=60/1 !  perf ! kmssink  bus-id=B0010000.v_mix  plane-id=34 render-rectangle=\"<2560,680,1280,800>\"'\n",
    "elif playback == 2:\n",
    "    pip += '! videorate !  video/x-raw, framerate=4/1 !  perf ! kmssink  bus-id=B0010000.v_mix  plane-id=34 render-rectangle=\"<2560,680,1280,800>\"'\n",
    "\n",
    "pip += '  t_src. !  queue '\n",
    "\n",
    "if playback == 0:\n",
    "    pip += \"! filesink location={path}/raw_src.y8\".format(path=filesinkpath)\n",
    "elif playback == 1:\n",
    "    pip += '! videorate !  video/x-raw, framerate=60/1 ! perf ! kmssink bus-id=B0010000.v_mix  plane-id=35 render-rectangle=\"<0,680,1280,800>\"'\n",
    "elif playback == 2:\n",
    "    pip += '! videorate !  video/x-raw, framerate=4/1 ! perf ! kmssink bus-id=B0010000.v_mix  plane-id=35 render-rectangle=\"<0,680,1280,800>\"'\n",
    "\n",
    "    \n",
    "pip += ' async=false  t_pre. ! queue ! '\n",
    "\n",
    "if playback == 0:\n",
    "    pip += \"filesink location={path}/pre-process.y8  async=false \".format(path=filesinkpath)\n",
    "elif playback == 1:\n",
    "    pip += 'videorate !  video/x-raw, framerate=60/1 ! perf ! kmssink bus-id=B0010000.v_mix  plane-id=36 render-rectangle=\"<1280,680,1280,800>\" async=false '.format(confdir=confdir)\n",
    "elif playback == 2:\n",
    "    pip += 'videorate !  video/x-raw, framerate=4/1 ! perf ! kmssink bus-id=B0010000.v_mix  plane-id=36 render-rectangle=\"<1280,680,1280,800>\" async=false '.format(confdir=confdir)\n",
    "\n",
    "    \n",
    "print(pip)"
   ]
  },
  {
   "cell_type": "code",
   "execution_count": 11,
   "metadata": {},
   "outputs": [
    {
     "name": "stdout",
     "output_type": "stream",
     "text": [
      "b'Setting pipeline to PAUSED ...\\nPipeline is PREROLLING ...\\nPipeline is PREROLLED ...\\nSetting pipeline to PLAYING ...\\nNew clock: GstSystemClock\\nGot EOS from element \"pipeline0\".\\nExecution ended after 0:00:08.630913122\\nSetting pipeline to PAUSED ...\\nSetting pipeline to READY ...\\nSetting pipeline to NULL ...\\nFreeing pipeline ...\\n'\n"
     ]
    }
   ],
   "source": [
    "output=subprocess.check_output(pip,shell=True)\n",
    "\n",
    "print (output)"
   ]
  },
  {
   "cell_type": "markdown",
   "metadata": {},
   "source": [
    "# 5. Summary\n",
    "The Jupyter application shows how to:\n",
    "\n",
    "1. Create a GStreamer pipeline which utilize the IVAS framework to call Vitis Vision Library to do defect detection on the live mango images, and embed the defect result on the final image from accelerator.\n",
    "2. User can try to customize the source to video file or MIPI camera."
   ]
  },
  {
   "cell_type": "markdown",
   "metadata": {},
   "source": [
    "<center>Copyright© 2019 Xilinx</center>"
   ]
  }
 ],
 "metadata": {
  "kernelspec": {
   "display_name": "Python 3",
   "language": "python",
   "name": "python3"
  },
  "language_info": {
   "codemirror_mode": {
    "name": "ipython",
    "version": 3
   },
   "file_extension": ".py",
   "mimetype": "text/x-python",
   "name": "python",
   "nbconvert_exporter": "python",
   "pygments_lexer": "ipython3",
   "version": "3.7.6"
  }
 },
 "nbformat": 4,
 "nbformat_minor": 4
}
